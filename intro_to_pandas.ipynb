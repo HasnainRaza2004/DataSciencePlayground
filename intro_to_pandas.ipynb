{
 "cells": [
  {
   "cell_type": "code",
   "execution_count": 2,
   "metadata": {},
   "outputs": [],
   "source": [
    "import pandas as pd\n",
    "import numpy as np"
   ]
  },
  {
   "cell_type": "code",
   "execution_count": 3,
   "metadata": {},
   "outputs": [
    {
     "data": {
      "text/plain": [
       "0     1.0\n",
       "1     2.0\n",
       "2     3.0\n",
       "3     4.0\n",
       "4     NaN\n",
       "5     6.0\n",
       "6     7.0\n",
       "7     8.0\n",
       "8     9.0\n",
       "9    10.0\n",
       "dtype: float64"
      ]
     },
     "execution_count": 3,
     "metadata": {},
     "output_type": "execute_result"
    }
   ],
   "source": [
    "s = pd.Series([1, 2, 3, 4, np.nan, 6, 7, 8, 9, 10])\n",
    "s"
   ]
  },
  {
   "cell_type": "code",
   "execution_count": 4,
   "metadata": {},
   "outputs": [
    {
     "data": {
      "text/plain": [
       "DatetimeIndex(['2019-01-01', '2019-01-02', '2019-01-03', '2019-01-04',\n",
       "               '2019-01-05', '2019-01-06', '2019-01-07', '2019-01-08',\n",
       "               '2019-01-09', '2019-01-10'],\n",
       "              dtype='datetime64[ns]', freq='D')"
      ]
     },
     "execution_count": 4,
     "metadata": {},
     "output_type": "execute_result"
    }
   ],
   "source": [
    "d = pd.date_range(\"20190101\", periods=10)\n",
    "d"
   ]
  },
  {
   "cell_type": "code",
   "execution_count": 5,
   "metadata": {},
   "outputs": [
    {
     "data": {
      "text/html": [
       "<div>\n",
       "<style scoped>\n",
       "    .dataframe tbody tr th:only-of-type {\n",
       "        vertical-align: middle;\n",
       "    }\n",
       "\n",
       "    .dataframe tbody tr th {\n",
       "        vertical-align: top;\n",
       "    }\n",
       "\n",
       "    .dataframe thead th {\n",
       "        text-align: right;\n",
       "    }\n",
       "</style>\n",
       "<table border=\"1\" class=\"dataframe\">\n",
       "  <thead>\n",
       "    <tr style=\"text-align: right;\">\n",
       "      <th></th>\n",
       "      <th>A</th>\n",
       "      <th>B</th>\n",
       "      <th>C</th>\n",
       "      <th>D</th>\n",
       "    </tr>\n",
       "  </thead>\n",
       "  <tbody>\n",
       "    <tr>\n",
       "      <th>2019-01-01</th>\n",
       "      <td>1.052785</td>\n",
       "      <td>-0.467300</td>\n",
       "      <td>0.116777</td>\n",
       "      <td>1.099834</td>\n",
       "    </tr>\n",
       "    <tr>\n",
       "      <th>2019-01-02</th>\n",
       "      <td>-0.228272</td>\n",
       "      <td>0.752493</td>\n",
       "      <td>1.206947</td>\n",
       "      <td>-1.082703</td>\n",
       "    </tr>\n",
       "    <tr>\n",
       "      <th>2019-01-03</th>\n",
       "      <td>0.478717</td>\n",
       "      <td>0.532711</td>\n",
       "      <td>1.277809</td>\n",
       "      <td>-0.084117</td>\n",
       "    </tr>\n",
       "    <tr>\n",
       "      <th>2019-01-04</th>\n",
       "      <td>-0.344466</td>\n",
       "      <td>0.641272</td>\n",
       "      <td>0.712084</td>\n",
       "      <td>0.392935</td>\n",
       "    </tr>\n",
       "    <tr>\n",
       "      <th>2019-01-05</th>\n",
       "      <td>3.047488</td>\n",
       "      <td>0.481874</td>\n",
       "      <td>0.655247</td>\n",
       "      <td>-1.505028</td>\n",
       "    </tr>\n",
       "    <tr>\n",
       "      <th>2019-01-06</th>\n",
       "      <td>-0.136982</td>\n",
       "      <td>-2.003905</td>\n",
       "      <td>-0.468037</td>\n",
       "      <td>1.675280</td>\n",
       "    </tr>\n",
       "    <tr>\n",
       "      <th>2019-01-07</th>\n",
       "      <td>-0.526448</td>\n",
       "      <td>0.371272</td>\n",
       "      <td>-1.497466</td>\n",
       "      <td>0.616061</td>\n",
       "    </tr>\n",
       "    <tr>\n",
       "      <th>2019-01-08</th>\n",
       "      <td>0.486165</td>\n",
       "      <td>0.576467</td>\n",
       "      <td>-0.174875</td>\n",
       "      <td>0.950030</td>\n",
       "    </tr>\n",
       "    <tr>\n",
       "      <th>2019-01-09</th>\n",
       "      <td>0.158586</td>\n",
       "      <td>-0.187931</td>\n",
       "      <td>-2.162533</td>\n",
       "      <td>0.008876</td>\n",
       "    </tr>\n",
       "    <tr>\n",
       "      <th>2019-01-10</th>\n",
       "      <td>0.047642</td>\n",
       "      <td>0.461858</td>\n",
       "      <td>-0.321694</td>\n",
       "      <td>-0.657822</td>\n",
       "    </tr>\n",
       "  </tbody>\n",
       "</table>\n",
       "</div>"
      ],
      "text/plain": [
       "                   A         B         C         D\n",
       "2019-01-01  1.052785 -0.467300  0.116777  1.099834\n",
       "2019-01-02 -0.228272  0.752493  1.206947 -1.082703\n",
       "2019-01-03  0.478717  0.532711  1.277809 -0.084117\n",
       "2019-01-04 -0.344466  0.641272  0.712084  0.392935\n",
       "2019-01-05  3.047488  0.481874  0.655247 -1.505028\n",
       "2019-01-06 -0.136982 -2.003905 -0.468037  1.675280\n",
       "2019-01-07 -0.526448  0.371272 -1.497466  0.616061\n",
       "2019-01-08  0.486165  0.576467 -0.174875  0.950030\n",
       "2019-01-09  0.158586 -0.187931 -2.162533  0.008876\n",
       "2019-01-10  0.047642  0.461858 -0.321694 -0.657822"
      ]
     },
     "execution_count": 5,
     "metadata": {},
     "output_type": "execute_result"
    }
   ],
   "source": [
    "df = pd.DataFrame(np.random.randn(10, 4), index=d, columns=list(\"ABCD\"))\n",
    "df"
   ]
  },
  {
   "cell_type": "code",
   "execution_count": 6,
   "metadata": {},
   "outputs": [],
   "source": [
    "df1 = pd.DataFrame(\n",
    "    {\n",
    "        'A': [1, 2, 3, 4],\n",
    "        'B': pd.Timestamp('20200301'),\n",
    "        'C': pd.Series(1, index=list(range(4)), dtype='Float32'),\n",
    "        'D': np.array([5] * 4, dtype='int32'),\n",
    "        'E': pd.Categorical(['true', 'false', 'true', 'false']),\n",
    "        'F': 'Edureka',\n",
    "    }\n",
    ")"
   ]
  },
  {
   "cell_type": "code",
   "execution_count": 7,
   "metadata": {},
   "outputs": [
    {
     "data": {
      "text/html": [
       "<div>\n",
       "<style scoped>\n",
       "    .dataframe tbody tr th:only-of-type {\n",
       "        vertical-align: middle;\n",
       "    }\n",
       "\n",
       "    .dataframe tbody tr th {\n",
       "        vertical-align: top;\n",
       "    }\n",
       "\n",
       "    .dataframe thead th {\n",
       "        text-align: right;\n",
       "    }\n",
       "</style>\n",
       "<table border=\"1\" class=\"dataframe\">\n",
       "  <thead>\n",
       "    <tr style=\"text-align: right;\">\n",
       "      <th></th>\n",
       "      <th>A</th>\n",
       "      <th>B</th>\n",
       "      <th>C</th>\n",
       "      <th>D</th>\n",
       "      <th>E</th>\n",
       "      <th>F</th>\n",
       "    </tr>\n",
       "  </thead>\n",
       "  <tbody>\n",
       "    <tr>\n",
       "      <th>0</th>\n",
       "      <td>1</td>\n",
       "      <td>2020-03-01</td>\n",
       "      <td>1.0</td>\n",
       "      <td>5</td>\n",
       "      <td>true</td>\n",
       "      <td>Edureka</td>\n",
       "    </tr>\n",
       "    <tr>\n",
       "      <th>1</th>\n",
       "      <td>2</td>\n",
       "      <td>2020-03-01</td>\n",
       "      <td>1.0</td>\n",
       "      <td>5</td>\n",
       "      <td>false</td>\n",
       "      <td>Edureka</td>\n",
       "    </tr>\n",
       "    <tr>\n",
       "      <th>2</th>\n",
       "      <td>3</td>\n",
       "      <td>2020-03-01</td>\n",
       "      <td>1.0</td>\n",
       "      <td>5</td>\n",
       "      <td>true</td>\n",
       "      <td>Edureka</td>\n",
       "    </tr>\n",
       "    <tr>\n",
       "      <th>3</th>\n",
       "      <td>4</td>\n",
       "      <td>2020-03-01</td>\n",
       "      <td>1.0</td>\n",
       "      <td>5</td>\n",
       "      <td>false</td>\n",
       "      <td>Edureka</td>\n",
       "    </tr>\n",
       "  </tbody>\n",
       "</table>\n",
       "</div>"
      ],
      "text/plain": [
       "   A          B    C  D      E        F\n",
       "0  1 2020-03-01  1.0  5   true  Edureka\n",
       "1  2 2020-03-01  1.0  5  false  Edureka\n",
       "2  3 2020-03-01  1.0  5   true  Edureka\n",
       "3  4 2020-03-01  1.0  5  false  Edureka"
      ]
     },
     "execution_count": 7,
     "metadata": {},
     "output_type": "execute_result"
    }
   ],
   "source": [
    "df1"
   ]
  },
  {
   "cell_type": "code",
   "execution_count": 8,
   "metadata": {},
   "outputs": [
    {
     "data": {
      "text/plain": [
       "A            int64\n",
       "B    datetime64[s]\n",
       "C          Float32\n",
       "D            int32\n",
       "E         category\n",
       "F           object\n",
       "dtype: object"
      ]
     },
     "execution_count": 8,
     "metadata": {},
     "output_type": "execute_result"
    }
   ],
   "source": [
    "df1.dtypes"
   ]
  },
  {
   "cell_type": "code",
   "execution_count": 9,
   "metadata": {},
   "outputs": [
    {
     "data": {
      "text/html": [
       "<div>\n",
       "<style scoped>\n",
       "    .dataframe tbody tr th:only-of-type {\n",
       "        vertical-align: middle;\n",
       "    }\n",
       "\n",
       "    .dataframe tbody tr th {\n",
       "        vertical-align: top;\n",
       "    }\n",
       "\n",
       "    .dataframe thead th {\n",
       "        text-align: right;\n",
       "    }\n",
       "</style>\n",
       "<table border=\"1\" class=\"dataframe\">\n",
       "  <thead>\n",
       "    <tr style=\"text-align: right;\">\n",
       "      <th></th>\n",
       "      <th>A</th>\n",
       "      <th>B</th>\n",
       "      <th>C</th>\n",
       "      <th>D</th>\n",
       "    </tr>\n",
       "  </thead>\n",
       "  <tbody>\n",
       "    <tr>\n",
       "      <th>2019-01-01</th>\n",
       "      <td>1.052785</td>\n",
       "      <td>-0.467300</td>\n",
       "      <td>0.116777</td>\n",
       "      <td>1.099834</td>\n",
       "    </tr>\n",
       "    <tr>\n",
       "      <th>2019-01-02</th>\n",
       "      <td>-0.228272</td>\n",
       "      <td>0.752493</td>\n",
       "      <td>1.206947</td>\n",
       "      <td>-1.082703</td>\n",
       "    </tr>\n",
       "    <tr>\n",
       "      <th>2019-01-03</th>\n",
       "      <td>0.478717</td>\n",
       "      <td>0.532711</td>\n",
       "      <td>1.277809</td>\n",
       "      <td>-0.084117</td>\n",
       "    </tr>\n",
       "    <tr>\n",
       "      <th>2019-01-04</th>\n",
       "      <td>-0.344466</td>\n",
       "      <td>0.641272</td>\n",
       "      <td>0.712084</td>\n",
       "      <td>0.392935</td>\n",
       "    </tr>\n",
       "    <tr>\n",
       "      <th>2019-01-05</th>\n",
       "      <td>3.047488</td>\n",
       "      <td>0.481874</td>\n",
       "      <td>0.655247</td>\n",
       "      <td>-1.505028</td>\n",
       "    </tr>\n",
       "  </tbody>\n",
       "</table>\n",
       "</div>"
      ],
      "text/plain": [
       "                   A         B         C         D\n",
       "2019-01-01  1.052785 -0.467300  0.116777  1.099834\n",
       "2019-01-02 -0.228272  0.752493  1.206947 -1.082703\n",
       "2019-01-03  0.478717  0.532711  1.277809 -0.084117\n",
       "2019-01-04 -0.344466  0.641272  0.712084  0.392935\n",
       "2019-01-05  3.047488  0.481874  0.655247 -1.505028"
      ]
     },
     "execution_count": 9,
     "metadata": {},
     "output_type": "execute_result"
    }
   ],
   "source": [
    "df.head()"
   ]
  },
  {
   "cell_type": "code",
   "execution_count": 10,
   "metadata": {},
   "outputs": [
    {
     "data": {
      "text/plain": [
       "<bound method NDFrame.tail of                    A         B         C         D\n",
       "2019-01-01  1.052785 -0.467300  0.116777  1.099834\n",
       "2019-01-02 -0.228272  0.752493  1.206947 -1.082703\n",
       "2019-01-03  0.478717  0.532711  1.277809 -0.084117\n",
       "2019-01-04 -0.344466  0.641272  0.712084  0.392935\n",
       "2019-01-05  3.047488  0.481874  0.655247 -1.505028\n",
       "2019-01-06 -0.136982 -2.003905 -0.468037  1.675280\n",
       "2019-01-07 -0.526448  0.371272 -1.497466  0.616061\n",
       "2019-01-08  0.486165  0.576467 -0.174875  0.950030\n",
       "2019-01-09  0.158586 -0.187931 -2.162533  0.008876\n",
       "2019-01-10  0.047642  0.461858 -0.321694 -0.657822>"
      ]
     },
     "execution_count": 10,
     "metadata": {},
     "output_type": "execute_result"
    }
   ],
   "source": [
    "df.tail"
   ]
  },
  {
   "cell_type": "code",
   "execution_count": 11,
   "metadata": {},
   "outputs": [
    {
     "data": {
      "text/plain": [
       "DatetimeIndex(['2019-01-01', '2019-01-02', '2019-01-03', '2019-01-04',\n",
       "               '2019-01-05', '2019-01-06', '2019-01-07', '2019-01-08',\n",
       "               '2019-01-09', '2019-01-10'],\n",
       "              dtype='datetime64[ns]', freq='D')"
      ]
     },
     "execution_count": 11,
     "metadata": {},
     "output_type": "execute_result"
    }
   ],
   "source": [
    "df.index"
   ]
  },
  {
   "cell_type": "code",
   "execution_count": 12,
   "metadata": {},
   "outputs": [
    {
     "data": {
      "text/plain": [
       "Index(['A', 'B', 'C', 'D'], dtype='object')"
      ]
     },
     "execution_count": 12,
     "metadata": {},
     "output_type": "execute_result"
    }
   ],
   "source": [
    "df.columns"
   ]
  },
  {
   "cell_type": "code",
   "execution_count": 13,
   "metadata": {},
   "outputs": [
    {
     "data": {
      "text/plain": [
       "array([[ 1.05278525, -0.46729987,  0.11677738,  1.09983359],\n",
       "       [-0.2282716 ,  0.75249282,  1.20694748, -1.08270284],\n",
       "       [ 0.47871678,  0.53271092,  1.27780938, -0.08411738],\n",
       "       [-0.34446617,  0.64127173,  0.71208363,  0.39293494],\n",
       "       [ 3.04748841,  0.48187382,  0.65524675, -1.5050276 ],\n",
       "       [-0.13698165, -2.00390475, -0.46803738,  1.67528004],\n",
       "       [-0.52644778,  0.37127182, -1.49746567,  0.61606147],\n",
       "       [ 0.48616545,  0.57646666, -0.17487505,  0.95003001],\n",
       "       [ 0.15858586, -0.187931  , -2.1625331 ,  0.00887574],\n",
       "       [ 0.04764183,  0.46185757, -0.32169393, -0.65782192]])"
      ]
     },
     "execution_count": 13,
     "metadata": {},
     "output_type": "execute_result"
    }
   ],
   "source": [
    "df.to_numpy()"
   ]
  },
  {
   "cell_type": "code",
   "execution_count": 14,
   "metadata": {},
   "outputs": [
    {
     "data": {
      "text/html": [
       "<div>\n",
       "<style scoped>\n",
       "    .dataframe tbody tr th:only-of-type {\n",
       "        vertical-align: middle;\n",
       "    }\n",
       "\n",
       "    .dataframe tbody tr th {\n",
       "        vertical-align: top;\n",
       "    }\n",
       "\n",
       "    .dataframe thead th {\n",
       "        text-align: right;\n",
       "    }\n",
       "</style>\n",
       "<table border=\"1\" class=\"dataframe\">\n",
       "  <thead>\n",
       "    <tr style=\"text-align: right;\">\n",
       "      <th></th>\n",
       "      <th>A</th>\n",
       "      <th>B</th>\n",
       "      <th>C</th>\n",
       "      <th>D</th>\n",
       "    </tr>\n",
       "  </thead>\n",
       "  <tbody>\n",
       "    <tr>\n",
       "      <th>count</th>\n",
       "      <td>10.000000</td>\n",
       "      <td>10.000000</td>\n",
       "      <td>10.000000</td>\n",
       "      <td>10.000000</td>\n",
       "    </tr>\n",
       "    <tr>\n",
       "      <th>mean</th>\n",
       "      <td>0.403522</td>\n",
       "      <td>0.115881</td>\n",
       "      <td>-0.065574</td>\n",
       "      <td>0.141335</td>\n",
       "    </tr>\n",
       "    <tr>\n",
       "      <th>std</th>\n",
       "      <td>1.039598</td>\n",
       "      <td>0.837454</td>\n",
       "      <td>1.118960</td>\n",
       "      <td>1.007206</td>\n",
       "    </tr>\n",
       "    <tr>\n",
       "      <th>min</th>\n",
       "      <td>-0.526448</td>\n",
       "      <td>-2.003905</td>\n",
       "      <td>-2.162533</td>\n",
       "      <td>-1.505028</td>\n",
       "    </tr>\n",
       "    <tr>\n",
       "      <th>25%</th>\n",
       "      <td>-0.205449</td>\n",
       "      <td>-0.048130</td>\n",
       "      <td>-0.431452</td>\n",
       "      <td>-0.514396</td>\n",
       "    </tr>\n",
       "    <tr>\n",
       "      <th>50%</th>\n",
       "      <td>0.103114</td>\n",
       "      <td>0.471866</td>\n",
       "      <td>-0.029049</td>\n",
       "      <td>0.200905</td>\n",
       "    </tr>\n",
       "    <tr>\n",
       "      <th>75%</th>\n",
       "      <td>0.484303</td>\n",
       "      <td>0.565528</td>\n",
       "      <td>0.697874</td>\n",
       "      <td>0.866538</td>\n",
       "    </tr>\n",
       "    <tr>\n",
       "      <th>max</th>\n",
       "      <td>3.047488</td>\n",
       "      <td>0.752493</td>\n",
       "      <td>1.277809</td>\n",
       "      <td>1.675280</td>\n",
       "    </tr>\n",
       "  </tbody>\n",
       "</table>\n",
       "</div>"
      ],
      "text/plain": [
       "               A          B          C          D\n",
       "count  10.000000  10.000000  10.000000  10.000000\n",
       "mean    0.403522   0.115881  -0.065574   0.141335\n",
       "std     1.039598   0.837454   1.118960   1.007206\n",
       "min    -0.526448  -2.003905  -2.162533  -1.505028\n",
       "25%    -0.205449  -0.048130  -0.431452  -0.514396\n",
       "50%     0.103114   0.471866  -0.029049   0.200905\n",
       "75%     0.484303   0.565528   0.697874   0.866538\n",
       "max     3.047488   0.752493   1.277809   1.675280"
      ]
     },
     "execution_count": 14,
     "metadata": {},
     "output_type": "execute_result"
    }
   ],
   "source": [
    "df.describe()"
   ]
  },
  {
   "cell_type": "code",
   "execution_count": 15,
   "metadata": {},
   "outputs": [
    {
     "data": {
      "text/html": [
       "<div>\n",
       "<style scoped>\n",
       "    .dataframe tbody tr th:only-of-type {\n",
       "        vertical-align: middle;\n",
       "    }\n",
       "\n",
       "    .dataframe tbody tr th {\n",
       "        vertical-align: top;\n",
       "    }\n",
       "\n",
       "    .dataframe thead th {\n",
       "        text-align: right;\n",
       "    }\n",
       "</style>\n",
       "<table border=\"1\" class=\"dataframe\">\n",
       "  <thead>\n",
       "    <tr style=\"text-align: right;\">\n",
       "      <th></th>\n",
       "      <th>D</th>\n",
       "      <th>C</th>\n",
       "      <th>B</th>\n",
       "      <th>A</th>\n",
       "    </tr>\n",
       "  </thead>\n",
       "  <tbody>\n",
       "    <tr>\n",
       "      <th>2019-01-01</th>\n",
       "      <td>1.099834</td>\n",
       "      <td>0.116777</td>\n",
       "      <td>-0.467300</td>\n",
       "      <td>1.052785</td>\n",
       "    </tr>\n",
       "    <tr>\n",
       "      <th>2019-01-02</th>\n",
       "      <td>-1.082703</td>\n",
       "      <td>1.206947</td>\n",
       "      <td>0.752493</td>\n",
       "      <td>-0.228272</td>\n",
       "    </tr>\n",
       "    <tr>\n",
       "      <th>2019-01-03</th>\n",
       "      <td>-0.084117</td>\n",
       "      <td>1.277809</td>\n",
       "      <td>0.532711</td>\n",
       "      <td>0.478717</td>\n",
       "    </tr>\n",
       "    <tr>\n",
       "      <th>2019-01-04</th>\n",
       "      <td>0.392935</td>\n",
       "      <td>0.712084</td>\n",
       "      <td>0.641272</td>\n",
       "      <td>-0.344466</td>\n",
       "    </tr>\n",
       "    <tr>\n",
       "      <th>2019-01-05</th>\n",
       "      <td>-1.505028</td>\n",
       "      <td>0.655247</td>\n",
       "      <td>0.481874</td>\n",
       "      <td>3.047488</td>\n",
       "    </tr>\n",
       "    <tr>\n",
       "      <th>2019-01-06</th>\n",
       "      <td>1.675280</td>\n",
       "      <td>-0.468037</td>\n",
       "      <td>-2.003905</td>\n",
       "      <td>-0.136982</td>\n",
       "    </tr>\n",
       "    <tr>\n",
       "      <th>2019-01-07</th>\n",
       "      <td>0.616061</td>\n",
       "      <td>-1.497466</td>\n",
       "      <td>0.371272</td>\n",
       "      <td>-0.526448</td>\n",
       "    </tr>\n",
       "    <tr>\n",
       "      <th>2019-01-08</th>\n",
       "      <td>0.950030</td>\n",
       "      <td>-0.174875</td>\n",
       "      <td>0.576467</td>\n",
       "      <td>0.486165</td>\n",
       "    </tr>\n",
       "    <tr>\n",
       "      <th>2019-01-09</th>\n",
       "      <td>0.008876</td>\n",
       "      <td>-2.162533</td>\n",
       "      <td>-0.187931</td>\n",
       "      <td>0.158586</td>\n",
       "    </tr>\n",
       "    <tr>\n",
       "      <th>2019-01-10</th>\n",
       "      <td>-0.657822</td>\n",
       "      <td>-0.321694</td>\n",
       "      <td>0.461858</td>\n",
       "      <td>0.047642</td>\n",
       "    </tr>\n",
       "  </tbody>\n",
       "</table>\n",
       "</div>"
      ],
      "text/plain": [
       "                   D         C         B         A\n",
       "2019-01-01  1.099834  0.116777 -0.467300  1.052785\n",
       "2019-01-02 -1.082703  1.206947  0.752493 -0.228272\n",
       "2019-01-03 -0.084117  1.277809  0.532711  0.478717\n",
       "2019-01-04  0.392935  0.712084  0.641272 -0.344466\n",
       "2019-01-05 -1.505028  0.655247  0.481874  3.047488\n",
       "2019-01-06  1.675280 -0.468037 -2.003905 -0.136982\n",
       "2019-01-07  0.616061 -1.497466  0.371272 -0.526448\n",
       "2019-01-08  0.950030 -0.174875  0.576467  0.486165\n",
       "2019-01-09  0.008876 -2.162533 -0.187931  0.158586\n",
       "2019-01-10 -0.657822 -0.321694  0.461858  0.047642"
      ]
     },
     "execution_count": 15,
     "metadata": {},
     "output_type": "execute_result"
    }
   ],
   "source": [
    "df.sort_index(axis=1, ascending=False)"
   ]
  },
  {
   "cell_type": "code",
   "execution_count": 17,
   "metadata": {},
   "outputs": [
    {
     "data": {
      "text/html": [
       "<div>\n",
       "<style scoped>\n",
       "    .dataframe tbody tr th:only-of-type {\n",
       "        vertical-align: middle;\n",
       "    }\n",
       "\n",
       "    .dataframe tbody tr th {\n",
       "        vertical-align: top;\n",
       "    }\n",
       "\n",
       "    .dataframe thead th {\n",
       "        text-align: right;\n",
       "    }\n",
       "</style>\n",
       "<table border=\"1\" class=\"dataframe\">\n",
       "  <thead>\n",
       "    <tr style=\"text-align: right;\">\n",
       "      <th></th>\n",
       "      <th>A</th>\n",
       "      <th>B</th>\n",
       "      <th>C</th>\n",
       "      <th>D</th>\n",
       "    </tr>\n",
       "  </thead>\n",
       "  <tbody>\n",
       "    <tr>\n",
       "      <th>2019-01-09</th>\n",
       "      <td>0.158586</td>\n",
       "      <td>-0.187931</td>\n",
       "      <td>-2.162533</td>\n",
       "      <td>0.008876</td>\n",
       "    </tr>\n",
       "    <tr>\n",
       "      <th>2019-01-07</th>\n",
       "      <td>-0.526448</td>\n",
       "      <td>0.371272</td>\n",
       "      <td>-1.497466</td>\n",
       "      <td>0.616061</td>\n",
       "    </tr>\n",
       "    <tr>\n",
       "      <th>2019-01-06</th>\n",
       "      <td>-0.136982</td>\n",
       "      <td>-2.003905</td>\n",
       "      <td>-0.468037</td>\n",
       "      <td>1.675280</td>\n",
       "    </tr>\n",
       "    <tr>\n",
       "      <th>2019-01-10</th>\n",
       "      <td>0.047642</td>\n",
       "      <td>0.461858</td>\n",
       "      <td>-0.321694</td>\n",
       "      <td>-0.657822</td>\n",
       "    </tr>\n",
       "    <tr>\n",
       "      <th>2019-01-08</th>\n",
       "      <td>0.486165</td>\n",
       "      <td>0.576467</td>\n",
       "      <td>-0.174875</td>\n",
       "      <td>0.950030</td>\n",
       "    </tr>\n",
       "    <tr>\n",
       "      <th>2019-01-01</th>\n",
       "      <td>1.052785</td>\n",
       "      <td>-0.467300</td>\n",
       "      <td>0.116777</td>\n",
       "      <td>1.099834</td>\n",
       "    </tr>\n",
       "    <tr>\n",
       "      <th>2019-01-05</th>\n",
       "      <td>3.047488</td>\n",
       "      <td>0.481874</td>\n",
       "      <td>0.655247</td>\n",
       "      <td>-1.505028</td>\n",
       "    </tr>\n",
       "    <tr>\n",
       "      <th>2019-01-04</th>\n",
       "      <td>-0.344466</td>\n",
       "      <td>0.641272</td>\n",
       "      <td>0.712084</td>\n",
       "      <td>0.392935</td>\n",
       "    </tr>\n",
       "    <tr>\n",
       "      <th>2019-01-02</th>\n",
       "      <td>-0.228272</td>\n",
       "      <td>0.752493</td>\n",
       "      <td>1.206947</td>\n",
       "      <td>-1.082703</td>\n",
       "    </tr>\n",
       "    <tr>\n",
       "      <th>2019-01-03</th>\n",
       "      <td>0.478717</td>\n",
       "      <td>0.532711</td>\n",
       "      <td>1.277809</td>\n",
       "      <td>-0.084117</td>\n",
       "    </tr>\n",
       "  </tbody>\n",
       "</table>\n",
       "</div>"
      ],
      "text/plain": [
       "                   A         B         C         D\n",
       "2019-01-09  0.158586 -0.187931 -2.162533  0.008876\n",
       "2019-01-07 -0.526448  0.371272 -1.497466  0.616061\n",
       "2019-01-06 -0.136982 -2.003905 -0.468037  1.675280\n",
       "2019-01-10  0.047642  0.461858 -0.321694 -0.657822\n",
       "2019-01-08  0.486165  0.576467 -0.174875  0.950030\n",
       "2019-01-01  1.052785 -0.467300  0.116777  1.099834\n",
       "2019-01-05  3.047488  0.481874  0.655247 -1.505028\n",
       "2019-01-04 -0.344466  0.641272  0.712084  0.392935\n",
       "2019-01-02 -0.228272  0.752493  1.206947 -1.082703\n",
       "2019-01-03  0.478717  0.532711  1.277809 -0.084117"
      ]
     },
     "execution_count": 17,
     "metadata": {},
     "output_type": "execute_result"
    }
   ],
   "source": [
    "df.sort_values(by='C')"
   ]
  },
  {
   "cell_type": "code",
   "execution_count": 18,
   "metadata": {},
   "outputs": [
    {
     "data": {
      "text/plain": [
       "2019-01-01   -0.467300\n",
       "2019-01-02    0.752493\n",
       "2019-01-03    0.532711\n",
       "2019-01-04    0.641272\n",
       "2019-01-05    0.481874\n",
       "2019-01-06   -2.003905\n",
       "2019-01-07    0.371272\n",
       "2019-01-08    0.576467\n",
       "2019-01-09   -0.187931\n",
       "2019-01-10    0.461858\n",
       "Freq: D, Name: B, dtype: float64"
      ]
     },
     "execution_count": 18,
     "metadata": {},
     "output_type": "execute_result"
    }
   ],
   "source": [
    "df['B']"
   ]
  },
  {
   "cell_type": "code",
   "execution_count": 20,
   "metadata": {},
   "outputs": [
    {
     "data": {
      "text/html": [
       "<div>\n",
       "<style scoped>\n",
       "    .dataframe tbody tr th:only-of-type {\n",
       "        vertical-align: middle;\n",
       "    }\n",
       "\n",
       "    .dataframe tbody tr th {\n",
       "        vertical-align: top;\n",
       "    }\n",
       "\n",
       "    .dataframe thead th {\n",
       "        text-align: right;\n",
       "    }\n",
       "</style>\n",
       "<table border=\"1\" class=\"dataframe\">\n",
       "  <thead>\n",
       "    <tr style=\"text-align: right;\">\n",
       "      <th></th>\n",
       "      <th>A</th>\n",
       "      <th>B</th>\n",
       "      <th>C</th>\n",
       "      <th>D</th>\n",
       "    </tr>\n",
       "  </thead>\n",
       "  <tbody>\n",
       "    <tr>\n",
       "      <th>2019-01-01</th>\n",
       "      <td>1.052785</td>\n",
       "      <td>-0.467300</td>\n",
       "      <td>0.116777</td>\n",
       "      <td>1.099834</td>\n",
       "    </tr>\n",
       "    <tr>\n",
       "      <th>2019-01-02</th>\n",
       "      <td>-0.228272</td>\n",
       "      <td>0.752493</td>\n",
       "      <td>1.206947</td>\n",
       "      <td>-1.082703</td>\n",
       "    </tr>\n",
       "    <tr>\n",
       "      <th>2019-01-03</th>\n",
       "      <td>0.478717</td>\n",
       "      <td>0.532711</td>\n",
       "      <td>1.277809</td>\n",
       "      <td>-0.084117</td>\n",
       "    </tr>\n",
       "    <tr>\n",
       "      <th>2019-01-04</th>\n",
       "      <td>-0.344466</td>\n",
       "      <td>0.641272</td>\n",
       "      <td>0.712084</td>\n",
       "      <td>0.392935</td>\n",
       "    </tr>\n",
       "  </tbody>\n",
       "</table>\n",
       "</div>"
      ],
      "text/plain": [
       "                   A         B         C         D\n",
       "2019-01-01  1.052785 -0.467300  0.116777  1.099834\n",
       "2019-01-02 -0.228272  0.752493  1.206947 -1.082703\n",
       "2019-01-03  0.478717  0.532711  1.277809 -0.084117\n",
       "2019-01-04 -0.344466  0.641272  0.712084  0.392935"
      ]
     },
     "execution_count": 20,
     "metadata": {},
     "output_type": "execute_result"
    }
   ],
   "source": [
    "df[0:4]"
   ]
  }
 ],
 "metadata": {
  "kernelspec": {
   "display_name": "Python 3",
   "language": "python",
   "name": "python3"
  },
  "language_info": {
   "codemirror_mode": {
    "name": "ipython",
    "version": 3
   },
   "file_extension": ".py",
   "mimetype": "text/x-python",
   "name": "python",
   "nbconvert_exporter": "python",
   "pygments_lexer": "ipython3",
   "version": "3.11.2"
  }
 },
 "nbformat": 4,
 "nbformat_minor": 2
}
